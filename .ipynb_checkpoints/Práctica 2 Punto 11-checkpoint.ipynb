{
 "cells": [
  {
   "cell_type": "markdown",
   "id": "03a3d7da",
   "metadata": {},
   "source": [
    "# Práctica 2 Punto 11\n",
    "\n",
    "## Enunciado: \n",
    "\n",
    "Con la información de los archivos de texto que se encuentran disponibles en el curso:\n",
    "\n",
    "* nombres_1\n",
    "* nombres_2\n",
    "\n",
    "* Indique los nombres que se encuentran en ambos. Nota: pruebe utilizando list comprehension.\n",
    "* Genere tres variables con la lista de notas y nombres que se incluyen en los archivos: nombres_1, eval1.txt y eval2.txt e imprima con formato los nombres de los estudiantes con las correspondientes nota y la suma de ambas como se ve en la imagen\n"
   ]
  },
  {
   "cell_type": "markdown",
   "id": "e37ddd11",
   "metadata": {},
   "source": [
    "### Resolución: "
   ]
  },
  {
   "cell_type": "code",
   "execution_count": 1,
   "id": "c4621a34",
   "metadata": {},
   "outputs": [],
   "source": [
    "archivo_nombres_1= open(\"C:\\\\Users\\\\ivomi\\\\OneDrive\\\\Escritorio\\\\Seminario Python\\\\nombres_1.txt\", 'r',  encoding= \"utf8\") \n",
    "archivo_nombres_2= open(\"C:\\\\Users\\\\ivomi\\\\OneDrive\\\\Escritorio\\\\Seminario Python\\\\nombres_2.txt\", 'r', encoding= \"utf8\")\n",
    "archivo_notas_1= open(\"C:\\\\Users\\\\ivomi\\\\OneDrive\\\\Escritorio\\\\Seminario Python\\\\eval1.txt\", 'r', encoding= \"utf8\")\n",
    "archivo_notas_2= open(\"C:\\\\Users\\\\ivomi\\\\OneDrive\\\\Escritorio\\\\Seminario Python\\\\eval2.txt\", 'r', encoding= \"utf8\")"
   ]
  },
  {
   "cell_type": "markdown",
   "id": "a5c3b721",
   "metadata": {},
   "source": [
    "* Abro los archivos con los que voy a trabajar."
   ]
  },
  {
   "cell_type": "code",
   "execution_count": 2,
   "id": "fa997696",
   "metadata": {},
   "outputs": [],
   "source": [
    "lista_nombres_1= []\n",
    "lista_nombres_2= []\n",
    "lista_comun= []\n",
    "lista_eval_1= []\n",
    "lista_eval_2= []"
   ]
  },
  {
   "cell_type": "markdown",
   "id": "af04bada",
   "metadata": {},
   "source": [
    "* Creo las listas en las que voy a almacenar los elementos de los archivos para poder trabajar mas cómodo."
   ]
  },
  {
   "cell_type": "code",
   "execution_count": 3,
   "id": "6c056aa4",
   "metadata": {},
   "outputs": [],
   "source": [
    "for elem in archivo_nombres_1:\n",
    "    lista_nombres_1.append(elem.strip().replace(\"',\" , \"\").replace(\"'\", \"\"))\n",
    "\n",
    "for elem in archivo_nombres_2:\n",
    "    lista_nombres_2.append(elem.strip().replace(\"',\" , \"\").replace(\"'\", \"\"))"
   ]
  },
  {
   "cell_type": "markdown",
   "id": "a3299b1c",
   "metadata": {},
   "source": [
    "* Voy agregando a las listas  *lista_nombres_1* y *lista_nombres_2* los nombres de los respectivos archivos quitándole los espacios en blanco, comas y comillas simples."
   ]
  },
  {
   "cell_type": "code",
   "execution_count": 4,
   "id": "15f8c42c",
   "metadata": {},
   "outputs": [
    {
     "name": "stdout",
     "output_type": "stream",
     "text": [
      "Nombres que se encuentran en ambas listas: ['Agustin', 'Bautista', 'CESAR', 'Diego', 'ELIANA', 'Facundo', 'Facundo', 'Ignacio', 'JUAN', 'Juan', 'Juan', 'Marcos', 'MATEO', 'Matias', 'Tomás', 'Ulises', 'Yanina']\n",
      " \n"
     ]
    }
   ],
   "source": [
    "for elem in lista_nombres_1:\n",
    "    if elem in lista_nombres_2:\n",
    "        lista_comun.append(elem)\n",
    "\n",
    "print(\"Nombres que se encuentran en ambas listas: \" + str(lista_comun))\n",
    "print(\" \")"
   ]
  },
  {
   "cell_type": "markdown",
   "id": "f091ddef",
   "metadata": {},
   "source": [
    "* Utilizo un for que va a iterar sobre *lista_nombres_1* y preguntar si el elemento actual también se encuentra en *lista_nombres_2*, si esta condición es verdadera se almacenará el nombre en *lista_comun*. Luego imprimo *lista_comun*, la cual me mostrará los nombres que comparten ambas listas."
   ]
  },
  {
   "cell_type": "code",
   "execution_count": 5,
   "id": "f422e80b",
   "metadata": {},
   "outputs": [],
   "source": [
    "for elem in archivo_notas_1:\n",
    "    lista_eval_1.append(elem.strip().replace(\",\", \"\"))\n",
    "for elem in archivo_notas_2:\n",
    "    lista_eval_2.append(elem.strip().replace(\",\", \"\"))"
   ]
  },
  {
   "cell_type": "markdown",
   "id": "02bdace0",
   "metadata": {},
   "source": [
    "* Almaceno los elementos de los archivos que contenían las notas en listas pero quitándole los espacios en blanco y las comas."
   ]
  },
  {
   "cell_type": "code",
   "execution_count": 6,
   "id": "d8f49311",
   "metadata": {},
   "outputs": [
    {
     "name": "stdout",
     "output_type": "stream",
     "text": [
      "      Nombre       Eval1     Eval2     Total\n"
     ]
    }
   ],
   "source": [
    "print ( \"{:>12}\".format(\"Nombre\")  +  \"{:>12}\".format(\"Eval1\") +  \"{:>10}\".format(\"Eval2\") +  \"{:>10}\".format(\"Total\"))"
   ]
  },
  {
   "cell_type": "markdown",
   "id": "643b306b",
   "metadata": {},
   "source": [
    "* Imprimo el encabezado de la lista que me mostrará los nombres de los alumnos con sus respectivas notas."
   ]
  },
  {
   "cell_type": "code",
   "execution_count": 7,
   "id": "727ef961",
   "metadata": {},
   "outputs": [
    {
     "name": "stdout",
     "output_type": "stream",
     "text": [
      "    0 Agustin        81        30        111       \n",
      "    1 Alan           60        95        155       \n",
      "    2 Andrés         72        28        100       \n",
      "    3 Ariadna        24        84        108       \n",
      "    4 Bautista       15        84        99        \n",
      "    5 CAROLINA       91        43        134       \n",
      "    6 CESAR          12        66        78        \n",
      "    7 David          70        51        121       \n",
      "    8 Diego          29        4         33        \n",
      "    9 Dolores        42        11        53        \n",
      "   10 DYLAN          16        58        74        \n",
      "   11 ELIANA         3         10        13        \n",
      "   12 Emanuel        35        13        48        \n",
      "   13 Fabián         67        34        101       \n",
      "   14 Facundo        10        96        106       \n",
      "   15 Facundo        57        71        128       \n",
      "   16 FEDERICO       11        86        97        \n",
      "   17 FEDERICO       69        37        106       \n",
      "   18 GONZALO        12        64        76        \n",
      "   19 Gregorio       77        13        90        \n",
      "   20 Ignacio        13        8         21        \n",
      "   21 Jonathan       86        87        173       \n",
      "   22 Jonathan       48        14        62        \n",
      "   23 Jorge          65        14        79        \n",
      "   24 JOSE           51        49        100       \n",
      "   25 JUAN           41        27        68        \n",
      "   26 Juan           87        55        142       \n",
      "   27 Juan           43        69        112       \n",
      "   28 Julian         10        77        87        \n",
      "   29 Julieta        87        59        146       \n",
      "   30 LAUTARO        91        57        148       \n",
      "   31 Leonel         15        40        55        \n",
      "   32 LUIS           44        96        140       \n",
      "   33 Luis           85        24        109       \n",
      "   34 Marcos         73        30        103       \n",
      "   35 María          37        73        110       \n",
      "   36 MATEO          42        95        137       \n",
      "   37 Matias         95        19        114       \n",
      "   38 Nicolás        18        47        65        \n",
      "   39 NICOLÁS        7         15        22        \n",
      "   40 Noelia         74        31        105       \n",
      "   41 Pablo          60        39        99        \n",
      "   42 Priscila       9         15        24        \n",
      "   43 TOMAS          65        74        139       \n",
      "   44 Tomás          93        33        126       \n",
      "   45 Ulises         63        57        120       \n",
      "   46 Yanina         74        10        84        \n"
     ]
    }
   ],
   "source": [
    "for i in range(0, len(lista_nombres_1)):\n",
    "    print (\"{:>5}\".format(str(i)) + \" \" + \"{:<15}\".format(lista_nombres_1[i]) + \"{:<10}\".format(lista_eval_1[i]) + \"{:<10}\".format(lista_eval_2[i]) +  \"{:<10}\".format(str((int(lista_eval_1[i])+ int(lista_eval_2[i])))))"
   ]
  },
  {
   "cell_type": "markdown",
   "id": "235e8c75",
   "metadata": {},
   "source": [
    "* Por ultimo, imprimo los nombres de los alumnos, las notas de la primera evaluación, las notas de la segunda evaluación y la suma de las dos notas."
   ]
  }
 ],
 "metadata": {
  "kernelspec": {
   "display_name": "Python 3 (ipykernel)",
   "language": "python",
   "name": "python3"
  },
  "language_info": {
   "codemirror_mode": {
    "name": "ipython",
    "version": 3
   },
   "file_extension": ".py",
   "mimetype": "text/x-python",
   "name": "python",
   "nbconvert_exporter": "python",
   "pygments_lexer": "ipython3",
   "version": "3.10.2"
  }
 },
 "nbformat": 4,
 "nbformat_minor": 5
}
